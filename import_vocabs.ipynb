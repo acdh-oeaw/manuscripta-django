{
 "cells": [
  {
   "cell_type": "code",
   "execution_count": null,
   "metadata": {},
   "outputs": [],
   "source": [
    "import pandas as pd\n",
    "from sqlalchemy import create_engine\n",
    "\n",
    "from django.conf import settings\n",
    "from appcreator import creator"
   ]
  },
  {
   "cell_type": "code",
   "execution_count": null,
   "metadata": {},
   "outputs": [],
   "source": [
    "SkosConcept.objects.all().count()"
   ]
  },
  {
   "cell_type": "code",
   "execution_count": null,
   "metadata": {},
   "outputs": [],
   "source": [
    "sheet_id = settings.SHEET_ID_VOCABS"
   ]
  },
  {
   "cell_type": "code",
   "execution_count": null,
   "metadata": {},
   "outputs": [],
   "source": [
    "df = creator.gsheet_to_df(sheet_id)"
   ]
  },
  {
   "cell_type": "code",
   "execution_count": null,
   "metadata": {},
   "outputs": [],
   "source": [
    "dbc = settings.LEGACY_DB_CONNECTION\n",
    "db_connection_str = f\"mysql+pymysql://{dbc['USER']}:{dbc['PASSWORD']}@{dbc['HOST']}/{dbc['NAME']}\"\n",
    "db_connection = create_engine(db_connection_str)"
   ]
  },
  {
   "cell_type": "code",
   "execution_count": null,
   "metadata": {},
   "outputs": [],
   "source": [
    "for i, row in df.iterrows():\n",
    "    source_name = row['source_table']\n",
    "    col_name = row['collection']\n",
    "    pref_name_field = row['pref_label']\n",
    "    legacy_id_field = row['legacy_id']\n",
    "    query = f\"SELECT * FROM {source_name}\"\n",
    "    skos_col, _ = SkosCollection.objects.get_or_create(\n",
    "        name=col_name\n",
    "    )\n",
    "    try:\n",
    "        df_data = pd.read_sql(query, con=db_connection)\n",
    "        print(source_name)\n",
    "        for i_data, row_data in df_data.iterrows():\n",
    "            legacy_id = f\"{col_name}__{float(row_data[legacy_id_field])}\"\n",
    "#             print(legacy_id)\n",
    "            \n",
    "            try:\n",
    "                temp_item, _ = SkosConcept.objects.get_or_create(\n",
    "                    legacy_id=legacy_id\n",
    "                )\n",
    "                temp_item.pref_label = row_data[pref_name_field]\n",
    "                temp_item.save()\n",
    "                temp_item.collection.add(skos_col)\n",
    "            except Exception as e:\n",
    "                print(f\"storing {legacy_id} didn't work because of \\n {e}\")\n",
    "    except Exception as e:\n",
    "        df_data = False\n",
    "        print(source_name, e)\n",
    "        continue"
   ]
  },
  {
   "cell_type": "code",
   "execution_count": null,
   "metadata": {},
   "outputs": [],
   "source": [
    "# SkosConcept.objects.all().delete()"
   ]
  },
  {
   "cell_type": "code",
   "execution_count": null,
   "metadata": {},
   "outputs": [],
   "source": [
    "# SkosConcept.objects.all().count()"
   ]
  },
  {
   "cell_type": "code",
   "execution_count": null,
   "metadata": {},
   "outputs": [],
   "source": []
  }
 ],
 "metadata": {
  "kernelspec": {
   "display_name": "Django Shell-Plus",
   "language": "python",
   "name": "django_extensions"
  },
  "language_info": {
   "codemirror_mode": {
    "name": "ipython",
    "version": 3
   },
   "file_extension": ".py",
   "mimetype": "text/x-python",
   "name": "python",
   "nbconvert_exporter": "python",
   "pygments_lexer": "ipython3",
   "version": "3.8.5"
  }
 },
 "nbformat": 4,
 "nbformat_minor": 4
}
