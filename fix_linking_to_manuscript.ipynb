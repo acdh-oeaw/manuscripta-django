{
 "cells": [
  {
   "cell_type": "code",
   "execution_count": null,
   "id": "d8a2e60b-067e-455e-8c9e-d341f6dcb9b1",
   "metadata": {},
   "outputs": [],
   "source": [
    "import json"
   ]
  },
  {
   "cell_type": "code",
   "execution_count": null,
   "id": "e8eb5c1d-225e-4e80-af97-2773adbb95fb",
   "metadata": {},
   "outputs": [],
   "source": [
    "[x.delete() for x in Manuscript.objects.filter(lib_code=None)]"
   ]
  },
  {
   "cell_type": "code",
   "execution_count": null,
   "id": "8fc487d7-7851-4b95-a7a5-28d981c57aea",
   "metadata": {},
   "outputs": [],
   "source": [
    "items = MsImage.objects.filter(manuscript=None)\n",
    "items.count()"
   ]
  },
  {
   "cell_type": "code",
   "execution_count": null,
   "id": "48c4c596-7bfa-4a9f-9ee6-38df10a42300",
   "metadata": {
    "scrolled": true
   },
   "outputs": [],
   "source": [
    "for x in items:\n",
    "    try:\n",
    "        ms_id = int(json.loads(x.orig_data_csv)[\"idmanuscripts\"])\n",
    "    except:\n",
    "        x.delete()\n",
    "        continue\n",
    "    ms = Manuscript.objects.get(legacy_pk=ms_id)\n",
    "    x.manuscript = ms\n",
    "    x.save()\n",
    "        "
   ]
  },
  {
   "cell_type": "code",
   "execution_count": null,
   "id": "2bf68be3-b966-4c42-a3e4-6113c1438b61",
   "metadata": {},
   "outputs": [],
   "source": [
    "items = MsPart.objects.filter(part_of_manuscript=None)\n",
    "items.count()"
   ]
  },
  {
   "cell_type": "code",
   "execution_count": null,
   "id": "da148789-99ea-4e1e-805e-e7fb76ae9a8e",
   "metadata": {},
   "outputs": [],
   "source": [
    "for x in items:\n",
    "    try:\n",
    "        ms_id = int(json.loads(x.orig_data_csv)[\"idmanuscripts\"])\n",
    "    except:\n",
    "        x.delete()\n",
    "        continue\n",
    "    try:\n",
    "        ms = Manuscript.objects.get(legacy_pk=ms_id)\n",
    "    except:\n",
    "        print(ms_id, x.id)\n",
    "        continue\n",
    "    x.part_of_manuscript = ms\n",
    "    x.save()"
   ]
  },
  {
   "cell_type": "code",
   "execution_count": null,
   "id": "80afde0b-f820-4b33-9fc4-e298af86034a",
   "metadata": {},
   "outputs": [],
   "source": [
    "# link lib to lit"
   ]
  },
  {
   "cell_type": "code",
   "execution_count": null,
   "id": "2b785923-be16-4555-9110-720b484f3d62",
   "metadata": {},
   "outputs": [],
   "source": [
    "import pandas as pd\n",
    "from tqdm import tqdm\n",
    "from sqlalchemy import create_engine\n",
    "from django.conf import settings\n",
    "from django.core.exceptions import ObjectDoesNotExist"
   ]
  },
  {
   "cell_type": "code",
   "execution_count": null,
   "id": "3f7f2158-0943-4682-aeeb-570871cdbdc0",
   "metadata": {},
   "outputs": [],
   "source": [
    "dbc = settings.LEGACY_DB_CONNECTION\n",
    "db_connection_str = f\"mysql+pymysql://{dbc['USER']}:{dbc['PASSWORD']}@{dbc['HOST']}/{dbc['NAME']}\"\n",
    "db_connection = create_engine(db_connection_str)"
   ]
  },
  {
   "cell_type": "code",
   "execution_count": null,
   "id": "8f668e64-0281-4d84-be86-0faadae62c81",
   "metadata": {},
   "outputs": [],
   "source": [
    "source_name = \"litkat\"\n",
    "query = f\"SELECT * FROM {source_name}\"\n",
    "df = pd.read_sql(query, con=db_connection)"
   ]
  },
  {
   "cell_type": "code",
   "execution_count": null,
   "id": "ff1f0707-0ee7-4d0a-8822-a0f45428c5b7",
   "metadata": {},
   "outputs": [],
   "source": [
    "df"
   ]
  },
  {
   "cell_type": "code",
   "execution_count": null,
   "id": "0ccd700e-d222-4d84-ab55-365a6b283518",
   "metadata": {},
   "outputs": [],
   "source": [
    "for lib_code, ndf in df.groupby(\"libCode\"):\n",
    "    lib = Bibliothek.objects.filter(lib_code=lib_code).first()\n",
    "    lit_ids = set(ndf[\"lit_id\"].to_list())\n",
    "    items = Literatur.objects.filter(legacy_pk__in=lit_ids)\n",
    "    lib.literatur.add(*items)    "
   ]
  },
  {
   "cell_type": "code",
   "execution_count": null,
   "id": "26999e6f-ce7e-4f30-8c55-80f2c61b45d4",
   "metadata": {},
   "outputs": [],
   "source": [
    "lit_ids"
   ]
  },
  {
   "cell_type": "code",
   "execution_count": null,
   "id": "edd19d33-dfe6-4a88-a383-b6e5555a36b0",
   "metadata": {},
   "outputs": [],
   "source": []
  }
 ],
 "metadata": {
  "kernelspec": {
   "display_name": "Django Shell-Plus",
   "language": "python",
   "name": "django_extensions"
  },
  "language_info": {
   "codemirror_mode": {
    "name": "ipython",
    "version": 3
   },
   "file_extension": ".py",
   "mimetype": "text/x-python",
   "name": "python",
   "nbconvert_exporter": "python",
   "pygments_lexer": "ipython3",
   "version": "3.12.3"
  }
 },
 "nbformat": 4,
 "nbformat_minor": 5
}
