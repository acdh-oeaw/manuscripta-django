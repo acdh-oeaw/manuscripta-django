{
 "cells": [
  {
   "cell_type": "code",
   "execution_count": 1,
   "metadata": {},
   "outputs": [],
   "source": [
    "from appcreator import creator"
   ]
  },
  {
   "cell_type": "code",
   "execution_count": 2,
   "metadata": {},
   "outputs": [],
   "source": [
    "from django.conf import settings"
   ]
  },
  {
   "cell_type": "code",
   "execution_count": 3,
   "metadata": {},
   "outputs": [],
   "source": [
    "sheet_id = settings.SHEET_ID"
   ]
  },
  {
   "cell_type": "code",
   "execution_count": 4,
   "metadata": {},
   "outputs": [
    {
     "name": "stdout",
     "output_type": "stream",
     "text": [
      "200\n"
     ]
    }
   ],
   "source": [
    "df = creator.gsheet_to_df(sheet_id)"
   ]
  },
  {
   "cell_type": "code",
   "execution_count": 5,
   "metadata": {},
   "outputs": [
    {
     "data": {
      "text/html": [
       "<div>\n",
       "<style scoped>\n",
       "    .dataframe tbody tr th:only-of-type {\n",
       "        vertical-align: middle;\n",
       "    }\n",
       "\n",
       "    .dataframe tbody tr th {\n",
       "        vertical-align: top;\n",
       "    }\n",
       "\n",
       "    .dataframe thead th {\n",
       "        text-align: right;\n",
       "    }\n",
       "</style>\n",
       "<table border=\"1\" class=\"dataframe\">\n",
       "  <thead>\n",
       "    <tr style=\"text-align: right;\">\n",
       "      <th></th>\n",
       "      <th>class name technical</th>\n",
       "      <th>class name verbose_name</th>\n",
       "      <th>class name helptext</th>\n",
       "      <th>source_table</th>\n",
       "      <th>class self representation</th>\n",
       "      <th>class object order by field</th>\n",
       "      <th>natural primary key</th>\n",
       "      <th>field name technical</th>\n",
       "      <th>field type</th>\n",
       "      <th>verbose field name</th>\n",
       "      <th>helptext</th>\n",
       "      <th>empty (yes Feld darf leer sein|no)</th>\n",
       "      <th>public (yes|no)</th>\n",
       "      <th>value from</th>\n",
       "      <th>maps to ARCHE</th>\n",
       "      <th>Mapping extra app work</th>\n",
       "    </tr>\n",
       "  </thead>\n",
       "  <tbody>\n",
       "    <tr>\n",
       "      <th>0</th>\n",
       "      <td>Manuscript</td>\n",
       "      <td>Manuscript</td>\n",
       "      <td>Beschreibt ein Manuscript</td>\n",
       "      <td>manuscripts</td>\n",
       "      <td>ms_code</td>\n",
       "      <td>ms_code_sort</td>\n",
       "      <td>id</td>\n",
       "      <td>legacy_pk</td>\n",
       "      <td>IntegerField</td>\n",
       "      <td>Primärschlüssel Alt</td>\n",
       "      <td>Primärschlüssel Alt</td>\n",
       "      <td>yes</td>\n",
       "      <td>no</td>\n",
       "      <td>ID</td>\n",
       "      <td>hasNonLinkedIdentifier</td>\n",
       "      <td>Primärschlüssel Alt: &lt;value&gt;</td>\n",
       "    </tr>\n",
       "    <tr>\n",
       "      <th>1</th>\n",
       "      <td>Manuscript</td>\n",
       "      <td>Manuscript</td>\n",
       "      <td>Beschreibt ein Manuscript</td>\n",
       "      <td>manuscripts</td>\n",
       "      <td>ms_code</td>\n",
       "      <td>ms_code_sort</td>\n",
       "      <td>id</td>\n",
       "      <td>ms_code</td>\n",
       "      <td>CharField</td>\n",
       "      <td>MS-Code</td>\n",
       "      <td>MS-Code</td>\n",
       "      <td>yes</td>\n",
       "      <td>yes</td>\n",
       "      <td>ms_code</td>\n",
       "      <td>hasNonLinkedIdentifier</td>\n",
       "      <td>MS-CODE: &lt;value&gt;</td>\n",
       "    </tr>\n",
       "    <tr>\n",
       "      <th>2</th>\n",
       "      <td>Manuscript</td>\n",
       "      <td>Manuscript</td>\n",
       "      <td>Beschreibt ein Manuscript</td>\n",
       "      <td>manuscripts</td>\n",
       "      <td>ms_code</td>\n",
       "      <td>ms_code_sort</td>\n",
       "      <td>id</td>\n",
       "      <td>ms_code_sort</td>\n",
       "      <td>CharField</td>\n",
       "      <td>MS-Code (Sortierung)</td>\n",
       "      <td>MS-Code (Sortierung)</td>\n",
       "      <td>yes</td>\n",
       "      <td>yes</td>\n",
       "      <td>ms_code_sort</td>\n",
       "      <td>NaN</td>\n",
       "      <td>NaN</td>\n",
       "    </tr>\n",
       "    <tr>\n",
       "      <th>3</th>\n",
       "      <td>Manuscript</td>\n",
       "      <td>Manuscript</td>\n",
       "      <td>Beschreibt ein Manuscript</td>\n",
       "      <td>manuscripts</td>\n",
       "      <td>ms_code</td>\n",
       "      <td>ms_code_sort</td>\n",
       "      <td>id</td>\n",
       "      <td>shelfmark</td>\n",
       "      <td>CharField</td>\n",
       "      <td>Signatur</td>\n",
       "      <td>Signatur</td>\n",
       "      <td>yes</td>\n",
       "      <td>yes</td>\n",
       "      <td>shelfmark</td>\n",
       "      <td>hasNonLinkedIdentifier</td>\n",
       "      <td>Signatur: &lt;value&gt;</td>\n",
       "    </tr>\n",
       "    <tr>\n",
       "      <th>4</th>\n",
       "      <td>Manuscript</td>\n",
       "      <td>Manuscript</td>\n",
       "      <td>Beschreibt ein Manuscript</td>\n",
       "      <td>manuscripts</td>\n",
       "      <td>ms_code</td>\n",
       "      <td>ms_code_sort</td>\n",
       "      <td>id</td>\n",
       "      <td>heading</td>\n",
       "      <td>TextField</td>\n",
       "      <td>Heading</td>\n",
       "      <td>Heading</td>\n",
       "      <td>yes</td>\n",
       "      <td>yes</td>\n",
       "      <td>heading</td>\n",
       "      <td>hasAlternativeTitle</td>\n",
       "      <td>NaN</td>\n",
       "    </tr>\n",
       "    <tr>\n",
       "      <th>5</th>\n",
       "      <td>Manuscript</td>\n",
       "      <td>Manuscript</td>\n",
       "      <td>Beschreibt ein Manuscript</td>\n",
       "      <td>manuscripts</td>\n",
       "      <td>ms_code</td>\n",
       "      <td>ms_code_sort</td>\n",
       "      <td>id</td>\n",
       "      <td>material</td>\n",
       "      <td>FK|SkosConcept</td>\n",
       "      <td>Material</td>\n",
       "      <td>Material</td>\n",
       "      <td>yes</td>\n",
       "      <td>yes</td>\n",
       "      <td>material</td>\n",
       "      <td>NaN</td>\n",
       "      <td>NaN</td>\n",
       "    </tr>\n",
       "    <tr>\n",
       "      <th>6</th>\n",
       "      <td>Manuscript</td>\n",
       "      <td>Manuscript</td>\n",
       "      <td>Beschreibt ein Manuscript</td>\n",
       "      <td>manuscripts</td>\n",
       "      <td>ms_code</td>\n",
       "      <td>ms_code_sort</td>\n",
       "      <td>id</td>\n",
       "      <td>num_leaves</td>\n",
       "      <td>CharField</td>\n",
       "      <td>Umfang</td>\n",
       "      <td>Umfang (Anzahl der Blätter)</td>\n",
       "      <td>yes</td>\n",
       "      <td>yes</td>\n",
       "      <td>num_leaves</td>\n",
       "      <td>hasExtent</td>\n",
       "      <td>Number of leaves: &lt;value&gt;</td>\n",
       "    </tr>\n",
       "    <tr>\n",
       "      <th>7</th>\n",
       "      <td>Manuscript</td>\n",
       "      <td>Manuscript</td>\n",
       "      <td>Beschreibt ein Manuscript</td>\n",
       "      <td>manuscripts</td>\n",
       "      <td>ms_code</td>\n",
       "      <td>ms_code_sort</td>\n",
       "      <td>id</td>\n",
       "      <td>dimensions</td>\n",
       "      <td>CharField</td>\n",
       "      <td>Dimensionen</td>\n",
       "      <td>Dimensionen</td>\n",
       "      <td>yes</td>\n",
       "      <td>yes</td>\n",
       "      <td>dimensions</td>\n",
       "      <td>hasExtent</td>\n",
       "      <td>Dimensionen: &lt;value&gt;</td>\n",
       "    </tr>\n",
       "    <tr>\n",
       "      <th>8</th>\n",
       "      <td>Bibliothek</td>\n",
       "      <td>Bibliothek</td>\n",
       "      <td>Beschreibt eine Bibliothek</td>\n",
       "      <td>NaN</td>\n",
       "      <td>lib_code</td>\n",
       "      <td>lib_name</td>\n",
       "      <td>lib_code</td>\n",
       "      <td>lib_code</td>\n",
       "      <td>CharField</td>\n",
       "      <td>Bibliothekscode</td>\n",
       "      <td>Bibliothekscode</td>\n",
       "      <td>yes</td>\n",
       "      <td>yes</td>\n",
       "      <td>IDlibrary</td>\n",
       "      <td>hasNonLinkedIdentifier</td>\n",
       "      <td>LIB-ID: &lt;value&gt;</td>\n",
       "    </tr>\n",
       "    <tr>\n",
       "      <th>9</th>\n",
       "      <td>Bibliothek</td>\n",
       "      <td>Bibliothek</td>\n",
       "      <td>Beschreibt eine Bibliothek</td>\n",
       "      <td>NaN</td>\n",
       "      <td>lib_code</td>\n",
       "      <td>lib_name</td>\n",
       "      <td>lib_code</td>\n",
       "      <td>lib_name</td>\n",
       "      <td>CharField</td>\n",
       "      <td>Name</td>\n",
       "      <td>Name</td>\n",
       "      <td>yes</td>\n",
       "      <td>yes</td>\n",
       "      <td>library_name</td>\n",
       "      <td>hasTitle</td>\n",
       "      <td>NaN</td>\n",
       "    </tr>\n",
       "    <tr>\n",
       "      <th>10</th>\n",
       "      <td>Bibliothek</td>\n",
       "      <td>Bibliothek</td>\n",
       "      <td>Beschreibt eine Bibliothek</td>\n",
       "      <td>NaN</td>\n",
       "      <td>lib_code</td>\n",
       "      <td>lib_name</td>\n",
       "      <td>lib_code</td>\n",
       "      <td>lib_type</td>\n",
       "      <td>FK|SkosConcept</td>\n",
       "      <td>Art der Bibliothek</td>\n",
       "      <td>Art der Bibliothek</td>\n",
       "      <td>yes</td>\n",
       "      <td>yes</td>\n",
       "      <td>library_type</td>\n",
       "      <td>NaN</td>\n",
       "      <td>NaN</td>\n",
       "    </tr>\n",
       "    <tr>\n",
       "      <th>11</th>\n",
       "      <td>Bibliothek</td>\n",
       "      <td>Bibliothek</td>\n",
       "      <td>Beschreibt eine Bibliothek</td>\n",
       "      <td>NaN</td>\n",
       "      <td>lib_code</td>\n",
       "      <td>lib_name</td>\n",
       "      <td>lib_code</td>\n",
       "      <td>short_name</td>\n",
       "      <td>CharField</td>\n",
       "      <td>Name (Abkürzung)</td>\n",
       "      <td>Name (Abkürzung)</td>\n",
       "      <td>yes</td>\n",
       "      <td>yes</td>\n",
       "      <td>library_name_short</td>\n",
       "      <td>hasAlternativeTitle</td>\n",
       "      <td>NaN</td>\n",
       "    </tr>\n",
       "  </tbody>\n",
       "</table>\n",
       "</div>"
      ],
      "text/plain": [
       "   class name technical class name verbose_name         class name helptext  \\\n",
       "0            Manuscript              Manuscript   Beschreibt ein Manuscript   \n",
       "1            Manuscript              Manuscript   Beschreibt ein Manuscript   \n",
       "2            Manuscript              Manuscript   Beschreibt ein Manuscript   \n",
       "3            Manuscript              Manuscript   Beschreibt ein Manuscript   \n",
       "4            Manuscript              Manuscript   Beschreibt ein Manuscript   \n",
       "5            Manuscript              Manuscript   Beschreibt ein Manuscript   \n",
       "6            Manuscript              Manuscript   Beschreibt ein Manuscript   \n",
       "7            Manuscript              Manuscript   Beschreibt ein Manuscript   \n",
       "8            Bibliothek              Bibliothek  Beschreibt eine Bibliothek   \n",
       "9            Bibliothek              Bibliothek  Beschreibt eine Bibliothek   \n",
       "10           Bibliothek              Bibliothek  Beschreibt eine Bibliothek   \n",
       "11           Bibliothek              Bibliothek  Beschreibt eine Bibliothek   \n",
       "\n",
       "   source_table class self representation class object order by field  \\\n",
       "0   manuscripts                   ms_code                ms_code_sort   \n",
       "1   manuscripts                   ms_code                ms_code_sort   \n",
       "2   manuscripts                   ms_code                ms_code_sort   \n",
       "3   manuscripts                   ms_code                ms_code_sort   \n",
       "4   manuscripts                   ms_code                ms_code_sort   \n",
       "5   manuscripts                   ms_code                ms_code_sort   \n",
       "6   manuscripts                   ms_code                ms_code_sort   \n",
       "7   manuscripts                   ms_code                ms_code_sort   \n",
       "8           NaN                  lib_code                    lib_name   \n",
       "9           NaN                  lib_code                    lib_name   \n",
       "10          NaN                  lib_code                    lib_name   \n",
       "11          NaN                  lib_code                    lib_name   \n",
       "\n",
       "   natural primary key field name technical      field type  \\\n",
       "0                   id            legacy_pk    IntegerField   \n",
       "1                   id              ms_code       CharField   \n",
       "2                   id         ms_code_sort       CharField   \n",
       "3                   id            shelfmark       CharField   \n",
       "4                   id              heading       TextField   \n",
       "5                   id             material  FK|SkosConcept   \n",
       "6                   id           num_leaves       CharField   \n",
       "7                   id           dimensions       CharField   \n",
       "8             lib_code             lib_code       CharField   \n",
       "9             lib_code             lib_name       CharField   \n",
       "10            lib_code             lib_type  FK|SkosConcept   \n",
       "11            lib_code           short_name       CharField   \n",
       "\n",
       "      verbose field name                     helptext  \\\n",
       "0    Primärschlüssel Alt          Primärschlüssel Alt   \n",
       "1                MS-Code                      MS-Code   \n",
       "2   MS-Code (Sortierung)         MS-Code (Sortierung)   \n",
       "3               Signatur                     Signatur   \n",
       "4                Heading                      Heading   \n",
       "5               Material                     Material   \n",
       "6                 Umfang  Umfang (Anzahl der Blätter)   \n",
       "7            Dimensionen                  Dimensionen   \n",
       "8        Bibliothekscode              Bibliothekscode   \n",
       "9                   Name                         Name   \n",
       "10    Art der Bibliothek           Art der Bibliothek   \n",
       "11      Name (Abkürzung)             Name (Abkürzung)   \n",
       "\n",
       "   empty (yes Feld darf leer sein|no) public (yes|no)          value from  \\\n",
       "0                                 yes              no                  ID   \n",
       "1                                 yes             yes             ms_code   \n",
       "2                                 yes             yes        ms_code_sort   \n",
       "3                                 yes             yes           shelfmark   \n",
       "4                                 yes             yes             heading   \n",
       "5                                 yes             yes            material   \n",
       "6                                 yes             yes          num_leaves   \n",
       "7                                 yes             yes          dimensions   \n",
       "8                                 yes             yes           IDlibrary   \n",
       "9                                 yes             yes        library_name   \n",
       "10                                yes             yes        library_type   \n",
       "11                                yes             yes  library_name_short   \n",
       "\n",
       "             maps to ARCHE        Mapping extra app work  \n",
       "0   hasNonLinkedIdentifier  Primärschlüssel Alt: <value>  \n",
       "1   hasNonLinkedIdentifier              MS-CODE: <value>  \n",
       "2                      NaN                           NaN  \n",
       "3   hasNonLinkedIdentifier             Signatur: <value>  \n",
       "4      hasAlternativeTitle                           NaN  \n",
       "5                      NaN                           NaN  \n",
       "6                hasExtent     Number of leaves: <value>  \n",
       "7                hasExtent          Dimensionen: <value>  \n",
       "8   hasNonLinkedIdentifier               LIB-ID: <value>  \n",
       "9                 hasTitle                           NaN  \n",
       "10                     NaN                           NaN  \n",
       "11     hasAlternativeTitle                           NaN  "
      ]
     },
     "execution_count": 5,
     "metadata": {},
     "output_type": "execute_result"
    }
   ],
   "source": [
    "df"
   ]
  },
  {
   "cell_type": "code",
   "execution_count": 6,
   "metadata": {},
   "outputs": [],
   "source": [
    "dicts = [x for x in creator.df_to_classdicts(df)]"
   ]
  },
  {
   "cell_type": "code",
   "execution_count": 7,
   "metadata": {},
   "outputs": [],
   "source": [
    "# dicts"
   ]
  },
  {
   "cell_type": "code",
   "execution_count": 8,
   "metadata": {},
   "outputs": [],
   "source": [
    "app_name = 'archiv'"
   ]
  },
  {
   "cell_type": "code",
   "execution_count": 9,
   "metadata": {},
   "outputs": [
    {
     "data": {
      "text/plain": [
       "'archiv/dal_views.py'"
      ]
     },
     "execution_count": 9,
     "metadata": {},
     "output_type": "execute_result"
    }
   ],
   "source": [
    "creator.serialize_dal_views(dicts, app_name=app_name, file_name=f\"{app_name}/dal_views.py\")"
   ]
  },
  {
   "cell_type": "code",
   "execution_count": 10,
   "metadata": {},
   "outputs": [
    {
     "data": {
      "text/plain": [
       "'archiv/dal_urls.py'"
      ]
     },
     "execution_count": 10,
     "metadata": {},
     "output_type": "execute_result"
    }
   ],
   "source": [
    "creator.serialize_dal_urls(dicts, app_name=app_name, file_name=f\"{app_name}/dal_urls.py\")"
   ]
  },
  {
   "cell_type": "code",
   "execution_count": 11,
   "metadata": {},
   "outputs": [
    {
     "data": {
      "text/plain": [
       "'archiv/filters.py'"
      ]
     },
     "execution_count": 11,
     "metadata": {},
     "output_type": "execute_result"
    }
   ],
   "source": [
    "creator.serialize_filters(dicts, app_name=app_name, file_name=f\"{app_name}/filters.py\")"
   ]
  },
  {
   "cell_type": "code",
   "execution_count": 12,
   "metadata": {},
   "outputs": [
    {
     "data": {
      "text/plain": [
       "'archiv/models.py'"
      ]
     },
     "execution_count": 12,
     "metadata": {},
     "output_type": "execute_result"
    }
   ],
   "source": [
    "creator.serialize_data_model(dicts, app_name=app_name, file_name=f\"{app_name}/models.py\")"
   ]
  },
  {
   "cell_type": "code",
   "execution_count": 13,
   "metadata": {},
   "outputs": [
    {
     "data": {
      "text/plain": [
       "'archiv/admin.py'"
      ]
     },
     "execution_count": 13,
     "metadata": {},
     "output_type": "execute_result"
    }
   ],
   "source": [
    "creator.serialize_admin(dicts, app_name=app_name, file_name=f\"{app_name}/admin.py\")"
   ]
  },
  {
   "cell_type": "code",
   "execution_count": 14,
   "metadata": {},
   "outputs": [
    {
     "data": {
      "text/plain": [
       "'archiv/tables.py'"
      ]
     },
     "execution_count": 14,
     "metadata": {},
     "output_type": "execute_result"
    }
   ],
   "source": [
    "creator.serialize_tables(dicts, app_name=app_name, file_name=f\"{app_name}/tables.py\")"
   ]
  },
  {
   "cell_type": "code",
   "execution_count": 15,
   "metadata": {},
   "outputs": [
    {
     "data": {
      "text/plain": [
       "'archiv/views.py'"
      ]
     },
     "execution_count": 15,
     "metadata": {},
     "output_type": "execute_result"
    }
   ],
   "source": [
    "creator.serialize_views(dicts, app_name=app_name, file_name=f\"{app_name}/views.py\")"
   ]
  },
  {
   "cell_type": "code",
   "execution_count": 16,
   "metadata": {},
   "outputs": [
    {
     "data": {
      "text/plain": [
       "'archiv/forms.py'"
      ]
     },
     "execution_count": 16,
     "metadata": {},
     "output_type": "execute_result"
    }
   ],
   "source": [
    "creator.serialize_forms(dicts, app_name=app_name, file_name=f\"{app_name}/forms.py\")"
   ]
  },
  {
   "cell_type": "code",
   "execution_count": 17,
   "metadata": {},
   "outputs": [
    {
     "data": {
      "text/plain": [
       "'archiv/urls.py'"
      ]
     },
     "execution_count": 17,
     "metadata": {},
     "output_type": "execute_result"
    }
   ],
   "source": [
    "creator.serialize_urls(dicts, app_name=app_name, file_name=f\"{app_name}/urls.py\")"
   ]
  }
 ],
 "metadata": {
  "kernelspec": {
   "display_name": "Django Shell-Plus",
   "language": "python",
   "name": "django_extensions"
  },
  "language_info": {
   "codemirror_mode": {
    "name": "ipython",
    "version": 3
   },
   "file_extension": ".py",
   "mimetype": "text/x-python",
   "name": "python",
   "nbconvert_exporter": "python",
   "pygments_lexer": "ipython3",
   "version": "3.8.5"
  }
 },
 "nbformat": 4,
 "nbformat_minor": 2
}
