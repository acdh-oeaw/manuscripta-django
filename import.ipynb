{
 "cells": [
  {
   "cell_type": "code",
   "execution_count": 9,
   "metadata": {},
   "outputs": [],
   "source": [
    "import glob\n",
    "import pymysql\n",
    "import pandas as pd\n",
    "from sqlalchemy import create_engine\n",
    "from tqdm import tqdm\n",
    "from django.conf import settings\n",
    "from appcreator.import_utils import run_import"
   ]
  },
  {
   "cell_type": "code",
   "execution_count": null,
   "metadata": {},
   "outputs": [],
   "source": [
    "dbc = settings.LEGACY_DB_CONNECTION"
   ]
  },
  {
   "cell_type": "code",
   "execution_count": null,
   "metadata": {},
   "outputs": [],
   "source": [
    "db_connection_str = f\"mysql+pymysql://{dbc['USER']}:{dbc['PASSWORD']}@{dbc['HOST']}/{dbc['NAME']}\"\n",
    "db_connection = create_engine(db_connection_str)"
   ]
  },
  {
   "cell_type": "code",
   "execution_count": null,
   "metadata": {},
   "outputs": [],
   "source": [
    "filter_queries = [\n",
    "    \"\"\"\n",
    "    WHERE IDManuscripts IN (7717)\n",
    "    \"\"\",\n",
    "    \"\"\"\n",
    "    WHERE ms_code IN ('AT5000-776')\n",
    "    \"\"\",\n",
    "    \"\"\"\n",
    "    WHERE IDaut IN (15041)\n",
    "    \"\"\",\n",
    "    \"\"\"\n",
    "    WHERE Id IN (1025, 6389, 6824, 8079)\n",
    "    \"\"\"\n",
    "]"
   ]
  },
  {
   "cell_type": "code",
   "execution_count": null,
   "metadata": {},
   "outputs": [],
   "source": [
    "run_import(\"archiv\", file_class_map_dict={'WerkInstanz': 'aut'}, filter_query=None)"
   ]
  },
  {
   "cell_type": "code",
   "execution_count": null,
   "metadata": {},
   "outputs": [],
   "source": [
    "# file_class_map_dict = {'Bibliothek': 'library'}\n",
    "# file_class_map_dict = {'MsDesc': 'mssdesc'}\n",
    "# file_class_map_dict = {'MsPart': 'mss_teile'}\n",
    "# file_class_map_dict = {'Manuscript': 'manuscripts'}\n",
    "# file_class_map_dict = {'Autor': 'aut'}\n",
    "# file_class_map_dict = {'WerkInstanz': 'aut'}\n",
    "# file_class_map_dict = {'Initium': 'initia', 'WerkInstanz': 'aut'}\n",
    "# file_class_map_dict = {'Literatur': 'lit'}\n",
    "# file_class_map_dict = {'Zitat': 'litsig'}\n",
    "# file_class_map_dict = {\n",
    "#     'WebLit': 'liturl',\n",
    "#     'Zitat': 'litsig'\n",
    "# }"
   ]
  },
  {
   "cell_type": "code",
   "execution_count": null,
   "metadata": {},
   "outputs": [],
   "source": []
  },
  {
   "cell_type": "code",
   "execution_count": null,
   "metadata": {},
   "outputs": [],
   "source": [
    "# run_import(\"archiv\", file_class_map_dict={'Zitat': 'litsig'}, filter_query=\"WHERE ms_code IN ('AT4000-136')\")"
   ]
  },
  {
   "cell_type": "code",
   "execution_count": 11,
   "metadata": {},
   "outputs": [
    {
     "name": "stderr",
     "output_type": "stream",
     "text": [
      "0it [00:00, ?it/s]\n"
     ]
    }
   ],
   "source": [
    "# delete manuscripts without ms-code\n",
    "for x in tqdm(Manuscript.objects.filter(ms_code=\"\")):\n",
    "    x.delete()"
   ]
  },
  {
   "cell_type": "code",
   "execution_count": null,
   "metadata": {},
   "outputs": [],
   "source": [
    "import os"
   ]
  },
  {
   "cell_type": "code",
   "execution_count": null,
   "metadata": {},
   "outputs": [],
   "source": [
    "os.environ.get(\""
   ]
  },
  {
   "cell_type": "code",
   "execution_count": null,
   "metadata": {},
   "outputs": [],
   "source": [
    "# Bibliothek.objects.all().delete()"
   ]
  }
 ],
 "metadata": {
  "kernelspec": {
   "display_name": "Django Shell-Plus",
   "language": "python",
   "name": "django_extensions"
  },
  "language_info": {
   "codemirror_mode": {
    "name": "ipython",
    "version": 3
   },
   "file_extension": ".py",
   "mimetype": "text/x-python",
   "name": "python",
   "nbconvert_exporter": "python",
   "pygments_lexer": "ipython3",
   "version": "3.12.3"
  }
 },
 "nbformat": 4,
 "nbformat_minor": 4
}
