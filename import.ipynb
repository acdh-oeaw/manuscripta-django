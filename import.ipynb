{
 "cells": [
  {
   "cell_type": "code",
   "execution_count": null,
   "metadata": {},
   "outputs": [],
   "source": [
    "import glob\n",
    "import pymysql\n",
    "import pandas as pd\n",
    "from sqlalchemy import create_engine\n",
    "\n",
    "from django.conf import settings"
   ]
  },
  {
   "cell_type": "code",
   "execution_count": null,
   "metadata": {},
   "outputs": [],
   "source": [
    "dbc = settings.LEGACY_DB_CONNECTION"
   ]
  },
  {
   "cell_type": "code",
   "execution_count": null,
   "metadata": {},
   "outputs": [],
   "source": [
    "db_connection_str = f\"mysql+pymysql://{dbc['USER']}:{dbc['PASSWORD']}@{dbc['HOST']}/{dbc['NAME']}\"\n",
    "db_connection = create_engine(db_connection_str)"
   ]
  },
  {
   "cell_type": "code",
   "execution_count": null,
   "metadata": {},
   "outputs": [],
   "source": [
    "filter_queries = [\n",
    "    \"\"\"\n",
    "    WHERE IDManuscripts IN (998)\n",
    "    \"\"\",\n",
    "    \"\"\"\n",
    "    WHERE ms_code IN ('AT5000-776')\n",
    "    \"\"\",\n",
    "    \"\"\"\n",
    "    WHERE IDaut IN (15041)\n",
    "    \"\"\"\n",
    "]"
   ]
  },
  {
   "cell_type": "code",
   "execution_count": null,
   "metadata": {},
   "outputs": [],
   "source": [
    "# filter_query = \"\"\"\n",
    "# WHERE IDManuscripts IN (998)\n",
    "# \"\"\"\n",
    "# filter_query = \"\"\"\n",
    "# WHERE ms_code IN ('AT5000-776')\n",
    "# \"\"\"\n",
    "# filter_query = \"\"\"\n",
    "# WHERE IDaut IN (15041)\n",
    "# \"\"\""
   ]
  },
  {
   "cell_type": "code",
   "execution_count": null,
   "metadata": {},
   "outputs": [],
   "source": [
    "from appcreator.import_utils import run_import\n",
    "from appcreator.import_utils import delete_all"
   ]
  },
  {
   "cell_type": "code",
   "execution_count": null,
   "metadata": {},
   "outputs": [],
   "source": [
    "# file_class_map_dict = {'Bibliothek': 'library'}\n",
    "# file_class_map_dict = {'MsDesc': 'mssdesc'}\n",
    "# file_class_map_dict = {'MsPart': 'mss_teile'}\n",
    "# file_class_map_dict = {'Manuscript': 'manuscripts'}\n",
    "# file_class_map_dict = {'Autor': 'aut'}\n",
    "# file_class_map_dict = {'WerkInstanz': 'aut'}\n",
    "# file_class_map_dict = {'Initium': 'initia', 'WerkInstanz': 'aut'}\n",
    "# file_class_map_dict = {'Literatur': 'lit'}\n",
    "# file_class_map_dict = {\n",
    "#     'WebLit': 'liturl',\n",
    "#     'Zitat': 'litsig'\n",
    "# }"
   ]
  },
  {
   "cell_type": "code",
   "execution_count": null,
   "metadata": {},
   "outputs": [],
   "source": [
    "for filter_query in filter_queries:\n",
    "#     print(filter_query)\n",
    "    run_import('archiv', file_class_map_dict=None, filter_query=filter_query)"
   ]
  },
  {
   "cell_type": "code",
   "execution_count": null,
   "metadata": {},
   "outputs": [],
   "source": [
    "run_import('archiv', file_class_map_dict=None, limit=1000)"
   ]
  },
  {
   "cell_type": "code",
   "execution_count": null,
   "metadata": {},
   "outputs": [],
   "source": [
    "# run_import('archiv', file_class_map_dict=file_class_map_dict)"
   ]
  },
  {
   "cell_type": "code",
   "execution_count": null,
   "metadata": {},
   "outputs": [],
   "source": [
    "# delete_all('archiv')"
   ]
  },
  {
   "cell_type": "code",
   "execution_count": null,
   "metadata": {},
   "outputs": [],
   "source": [
    "# Bibliothek.objects.all().delete()"
   ]
  }
 ],
 "metadata": {
  "kernelspec": {
   "display_name": "Django Shell-Plus",
   "language": "python",
   "name": "django_extensions"
  },
  "language_info": {
   "codemirror_mode": {
    "name": "ipython",
    "version": 3
   },
   "file_extension": ".py",
   "mimetype": "text/x-python",
   "name": "python",
   "nbconvert_exporter": "python",
   "pygments_lexer": "ipython3",
   "version": "3.8.5"
  }
 },
 "nbformat": 4,
 "nbformat_minor": 4
}
