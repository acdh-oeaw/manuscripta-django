{
 "cells": [
  {
   "cell_type": "code",
   "execution_count": 1,
   "metadata": {},
   "outputs": [],
   "source": [
    "import glob\n",
    "import pymysql\n",
    "import pandas as pd\n",
    "from sqlalchemy import create_engine\n",
    "\n",
    "from django.conf import settings"
   ]
  },
  {
   "cell_type": "code",
   "execution_count": 2,
   "metadata": {},
   "outputs": [],
   "source": [
    "dbc = settings.LEGACY_DB_CONNECTION"
   ]
  },
  {
   "cell_type": "code",
   "execution_count": 3,
   "metadata": {},
   "outputs": [],
   "source": [
    "db_connection_str = f\"mysql+pymysql://{dbc['USER']}:{dbc['PASSWORD']}@{dbc['HOST']}/{dbc['NAME']}\"\n",
    "db_connection = create_engine(db_connection_str)"
   ]
  },
  {
   "cell_type": "code",
   "execution_count": null,
   "metadata": {},
   "outputs": [],
   "source": [
    "filter_queries = [\n",
    "    \"\"\"\n",
    "    WHERE IDManuscripts IN (7717)\n",
    "    \"\"\",\n",
    "    \"\"\"\n",
    "    WHERE ms_code IN ('AT5000-776')\n",
    "    \"\"\",\n",
    "    \"\"\"\n",
    "    WHERE IDaut IN (15041)\n",
    "    \"\"\",\n",
    "    \"\"\"\n",
    "    WHERE Id IN (1025, 6389, 6824, 8079)\n",
    "    \"\"\"\n",
    "]"
   ]
  },
  {
   "cell_type": "code",
   "execution_count": 4,
   "metadata": {},
   "outputs": [],
   "source": [
    "from appcreator.import_utils import run_import\n",
    "from appcreator.import_utils import delete_all"
   ]
  },
  {
   "cell_type": "code",
   "execution_count": null,
   "metadata": {},
   "outputs": [],
   "source": [
    "# file_class_map_dict = {'Bibliothek': 'library'}\n",
    "# file_class_map_dict = {'MsDesc': 'mssdesc'}\n",
    "# file_class_map_dict = {'MsPart': 'mss_teile'}\n",
    "# file_class_map_dict = {'Manuscript': 'manuscripts'}\n",
    "# file_class_map_dict = {'Autor': 'aut'}\n",
    "# file_class_map_dict = {'WerkInstanz': 'aut'}\n",
    "# file_class_map_dict = {'Initium': 'initia', 'WerkInstanz': 'aut'}\n",
    "# file_class_map_dict = {'Literatur': 'lit'}\n",
    "# file_class_map_dict = {'Zitat': 'litsig'}\n",
    "# file_class_map_dict = {\n",
    "#     'WebLit': 'liturl',\n",
    "#     'Zitat': 'litsig'\n",
    "# }"
   ]
  },
  {
   "cell_type": "code",
   "execution_count": 6,
   "metadata": {},
   "outputs": [
    {
     "name": "stdout",
     "output_type": "stream",
     "text": [
      "no match for Autor\n",
      "no match for Bibliothek\n",
      "no match for Initium\n",
      "no match for Literatur\n",
      "no match for Manuscript\n",
      "no match for MsDesc\n",
      "no match for MsPart\n",
      "no match for Place\n",
      "no match for Verfasser\n",
      "no match for WebLit\n",
      "no match for WerkInstanz\n",
      "{'id': 'legacy_pk', 'lit_id': 'literatur', 'ms_code': 'manuscript', 'kz_sm': 'kz_ms', 'signatur': 'signatur'}\n",
      "litsig\n"
     ]
    }
   ],
   "source": [
    "run_import(\"archiv\", file_class_map_dict={'Zitat': 'litsig'}, filter_query=\"WHERE ms_code IN ('AT4000-136')\")"
   ]
  },
  {
   "cell_type": "code",
   "execution_count": null,
   "metadata": {},
   "outputs": [],
   "source": [
    "run_import('archiv', file_class_map_dict=None, limit=1000)"
   ]
  },
  {
   "cell_type": "code",
   "execution_count": null,
   "metadata": {},
   "outputs": [],
   "source": [
    "# run_import('archiv', file_class_map_dict=file_class_map_dict)"
   ]
  },
  {
   "cell_type": "code",
   "execution_count": null,
   "metadata": {},
   "outputs": [],
   "source": [
    "# delete_all('archiv')"
   ]
  },
  {
   "cell_type": "code",
   "execution_count": null,
   "metadata": {},
   "outputs": [],
   "source": [
    "# Bibliothek.objects.all().delete()"
   ]
  }
 ],
 "metadata": {
  "kernelspec": {
   "display_name": "Django Shell-Plus",
   "language": "python",
   "name": "django_extensions"
  },
  "language_info": {
   "codemirror_mode": {
    "name": "ipython",
    "version": 3
   },
   "file_extension": ".py",
   "mimetype": "text/x-python",
   "name": "python",
   "nbconvert_exporter": "python",
   "pygments_lexer": "ipython3",
   "version": "3.12.3"
  }
 },
 "nbformat": 4,
 "nbformat_minor": 4
}
