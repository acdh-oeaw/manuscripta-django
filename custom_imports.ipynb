{
 "cells": [
  {
   "cell_type": "code",
   "execution_count": null,
   "id": "a5afe75e-2271-40fe-b34c-b365ebaafa57",
   "metadata": {},
   "outputs": [],
   "source": [
    "import glob\n",
    "import pymysql\n",
    "import pandas as pd\n",
    "from sqlalchemy import create_engine\n",
    "from tqdm import tqdm\n",
    "\n",
    "from django.conf import settings\n",
    "from appcreator.import_utils import run_import"
   ]
  },
  {
   "cell_type": "code",
   "execution_count": null,
   "id": "eff97624-80ef-4c42-bb43-ad20d9676ea2",
   "metadata": {},
   "outputs": [],
   "source": [
    "dbc = settings.LEGACY_DB_CONNECTION\n",
    "db_connection_str = f\"mysql+pymysql://{dbc['USER']}:{dbc['PASSWORD']}@{dbc['HOST']}/{dbc['NAME']}\"\n",
    "db_connection = create_engine(db_connection_str)\n"
   ]
  },
  {
   "cell_type": "code",
   "execution_count": null,
   "id": "de3153c5-dc1c-47f3-855b-93adbc2a2742",
   "metadata": {},
   "outputs": [],
   "source": [
    "source_name = \"autGND\"\n",
    "query = f\"SELECT * FROM {source_name}\"\n",
    "skos_col, _ = SkosCollection.objects.get_or_create(name=\"orden\")\n",
    "df = pd.read_sql(query, con=db_connection)"
   ]
  },
  {
   "cell_type": "code",
   "execution_count": null,
   "id": "9a115e62-3939-4583-91ea-8942fe35fe84",
   "metadata": {},
   "outputs": [],
   "source": [
    "for i, row in tqdm(df.iterrows()):\n",
    "    gnd = row[\"GND\"]\n",
    "    orden = row[\"orden\"]\n",
    "    if orden:\n",
    "        orden_obj, _ = SkosConcept.objects.get_or_create(pref_label=orden)\n",
    "        orden_obj.collection.add(skos_col)\n",
    "    for x in Autor.objects.filter(gnd_id=gnd):\n",
    "        x.biogr_daten = row[\"biogr_daten\"]\n",
    "        x.jahrhundert = row[\"zeit_SM\"]\n",
    "        x.bibliography = row[\"bibliography\"]\n",
    "        if orden:\n",
    "            x.orden = orden_obj\n",
    "        x.save()"
   ]
  },
  {
   "cell_type": "code",
   "execution_count": null,
   "id": "09e253da-b749-4fa3-9fd0-2000d8fa8ce5",
   "metadata": {},
   "outputs": [],
   "source": [
    "df.keys()"
   ]
  },
  {
   "cell_type": "code",
   "execution_count": null,
   "id": "e5291e3e-2fc3-4eaa-ad1c-cd870931c656",
   "metadata": {},
   "outputs": [],
   "source": []
  }
 ],
 "metadata": {
  "kernelspec": {
   "display_name": "Django Shell-Plus",
   "language": "python",
   "name": "django_extensions"
  },
  "language_info": {
   "codemirror_mode": {
    "name": "ipython",
    "version": 3
   },
   "file_extension": ".py",
   "mimetype": "text/x-python",
   "name": "python",
   "nbconvert_exporter": "python",
   "pygments_lexer": "ipython3",
   "version": "3.12.3"
  }
 },
 "nbformat": 4,
 "nbformat_minor": 5
}
